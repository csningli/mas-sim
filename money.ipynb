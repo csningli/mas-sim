{
 "cells": [
  {
   "cell_type": "code",
   "execution_count": 8,
   "id": "f01adf44",
   "metadata": {},
   "outputs": [],
   "source": [
    "from money import MoneyAgent, MoneyModel"
   ]
  },
  {
   "cell_type": "code",
   "execution_count": 9,
   "id": "83909eef",
   "metadata": {},
   "outputs": [
    {
     "name": "stdout",
     "output_type": "stream",
     "text": [
      "Hi, I am agent 4.\n",
      "Hi, I am agent 2.\n",
      "Hi, I am agent 0.\n",
      "Hi, I am agent 3.\n",
      "Hi, I am agent 8.\n",
      "Hi, I am agent 5.\n",
      "Hi, I am agent 1.\n",
      "Hi, I am agent 6.\n",
      "Hi, I am agent 7.\n",
      "Hi, I am agent 9.\n"
     ]
    }
   ],
   "source": [
    "empty_model = MoneyModel(10)\n",
    "empty_model.step()"
   ]
  },
  {
   "cell_type": "code",
   "execution_count": null,
   "id": "af4187e5",
   "metadata": {},
   "outputs": [],
   "source": []
  }
 ],
 "metadata": {
  "kernelspec": {
   "display_name": "Python 3 (ipykernel)",
   "language": "python",
   "name": "python3"
  },
  "language_info": {
   "codemirror_mode": {
    "name": "ipython",
    "version": 3
   },
   "file_extension": ".py",
   "mimetype": "text/x-python",
   "name": "python",
   "nbconvert_exporter": "python",
   "pygments_lexer": "ipython3",
   "version": "3.9.15"
  }
 },
 "nbformat": 4,
 "nbformat_minor": 5
}
